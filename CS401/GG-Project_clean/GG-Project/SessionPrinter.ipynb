{
 "cells": [
  {
   "cell_type": "code",
   "execution_count": 1,
   "metadata": {
    "collapsed": false
   },
   "outputs": [],
   "source": [
    "from SparkerMethods import runSpark\n",
    "runSpark()"
   ]
  },
  {
   "cell_type": "code",
   "execution_count": 2,
   "metadata": {
    "collapsed": false
   },
   "outputs": [],
   "source": [
    "from NewExtractorRunner import *\n",
    "from ReadyTests import get32Keywords\n",
    "import paths\n",
    "import PythonVersionHandler\n",
    "PythonVersionHandler.LOGGING = False"
   ]
  },
  {
   "cell_type": "code",
   "execution_count": 3,
   "metadata": {
    "collapsed": false
   },
   "outputs": [],
   "source": [
    "keywords = get32Keywords() # 'iphone 7' # \"BEKO 9 KG CAMASIR MAKINESI\" # 'tupperware'\n",
    "day = 17\n",
    "dateStr = '2017-05-' + str(day)\n",
    "extractedPath = 'hdfs://osldevptst01.host.gittigidiyor.net:8020/user/root/secondWeek/besiktas/besiktas_extractedLogs'"
   ]
  },
  {
   "cell_type": "code",
   "execution_count": 4,
   "metadata": {
    "collapsed": false
   },
   "outputs": [
    {
     "name": "stdout",
     "output_type": "stream",
     "text": [
      "hdfs://osldevptst01.host.gittigidiyor.net:8020/user/root/secondWeek/besiktas/besiktas_extractedLogs has been read by 2017-08-21 13:16:20.950544\n"
     ]
    }
   ],
   "source": [
    "import SparkLogFileHandler\n",
    "logs = SparkLogFileHandler.readParsedLogsFromHDFS(extractedPath)"
   ]
  },
  {
   "cell_type": "code",
   "execution_count": 5,
   "metadata": {
    "collapsed": false
   },
   "outputs": [
    {
     "name": "stdout",
     "output_type": "stream",
     "text": [
      "1971 searches, 672 views, 623 cart and payments have found for besiktas by 2017-08-21 13:16:38.214904\n"
     ]
    }
   ],
   "source": [
    "import SearchExtractor\n",
    "keywordDict = SearchExtractor.searchNProductLogsByKeywords(logs, keywords, True)  "
   ]
  },
  {
   "cell_type": "code",
   "execution_count": 6,
   "metadata": {
    "collapsed": false
   },
   "outputs": [
    {
     "ename": "NameError",
     "evalue": "name 'nowStr' is not defined",
     "output_type": "error",
     "traceback": [
      "\u001b[0;31m---------------------------------------------------------------------------\u001b[0m",
      "\u001b[0;31mNameError\u001b[0m                                 Traceback (most recent call last)",
      "\u001b[0;32m<ipython-input-6-2265f14bfd0f>\u001b[0m in \u001b[0;36m<module>\u001b[0;34m()\u001b[0m\n\u001b[1;32m      1\u001b[0m \u001b[0;32mimport\u001b[0m \u001b[0mSessionizer\u001b[0m\u001b[0;34m\u001b[0m\u001b[0m\n\u001b[0;32m----> 2\u001b[0;31m \u001b[0msessions\u001b[0m \u001b[0;34m=\u001b[0m \u001b[0mSessionizer\u001b[0m\u001b[0;34m.\u001b[0m\u001b[0msessionize\u001b[0m\u001b[0;34m(\u001b[0m\u001b[0mkeywordDict\u001b[0m\u001b[0;34m[\u001b[0m\u001b[0;34m'besiktas'\u001b[0m\u001b[0;34m]\u001b[0m\u001b[0;34m)\u001b[0m\u001b[0;34m\u001b[0m\u001b[0m\n\u001b[0m",
      "\u001b[0;32m/tmp/spark-d0a5f229-bceb-4353-9d42-2e238d842419/userFiles-43379375-5a8e-4ca6-9f73-48f212e6e48d/Sessionizer.py\u001b[0m in \u001b[0;36msessionize\u001b[0;34m(logs)\u001b[0m\n\u001b[1;32m     67\u001b[0m             \u001b[0midSets\u001b[0m\u001b[0;34m.\u001b[0m\u001b[0mappend\u001b[0m\u001b[0;34m(\u001b[0m\u001b[0mset\u001b[0m\u001b[0;34m(\u001b[0m\u001b[0mlog\u001b[0m\u001b[0;34m[\u001b[0m\u001b[0mKEY_FOUR_IDS\u001b[0m\u001b[0;34m]\u001b[0m\u001b[0;34m)\u001b[0m\u001b[0;34m)\u001b[0m\u001b[0;34m\u001b[0m\u001b[0m\n\u001b[1;32m     68\u001b[0m     \u001b[0;32mimport\u001b[0m \u001b[0mPythonVersionHandler\u001b[0m\u001b[0;34m\u001b[0m\u001b[0m\n\u001b[0;32m---> 69\u001b[0;31m     \u001b[0mPythonVersionHandler\u001b[0m\u001b[0;34m.\u001b[0m\u001b[0mprint_\u001b[0m\u001b[0;34m(\u001b[0m\u001b[0mlen\u001b[0m\u001b[0;34m(\u001b[0m\u001b[0msessions\u001b[0m\u001b[0;34m)\u001b[0m\u001b[0;34m,\u001b[0m \u001b[0;34m'sessions have been found in total by'\u001b[0m\u001b[0;34m,\u001b[0m \u001b[0mnowStr\u001b[0m\u001b[0;34m(\u001b[0m\u001b[0;34m)\u001b[0m\u001b[0;34m)\u001b[0m\u001b[0;34m\u001b[0m\u001b[0m\n\u001b[0m\u001b[1;32m     70\u001b[0m     \u001b[0;32mreturn\u001b[0m \u001b[0mgetUsefulSessions\u001b[0m\u001b[0;34m(\u001b[0m\u001b[0msessions\u001b[0m\u001b[0;34m)\u001b[0m\u001b[0;34m\u001b[0m\u001b[0m\n\u001b[1;32m     71\u001b[0m \u001b[0;34m\u001b[0m\u001b[0m\n",
      "\u001b[0;31mNameError\u001b[0m: name 'nowStr' is not defined"
     ]
    }
   ],
   "source": [
    "import Sessionizer\n",
    "sessions = Sessionizer.sessionize(keywordDict['besiktas'])"
   ]
  },
  {
   "cell_type": "code",
   "execution_count": null,
   "metadata": {
    "collapsed": false,
    "scrolled": true
   },
   "outputs": [],
   "source": [
    "printSessionActions(sessions[5])"
   ]
  },
  {
   "cell_type": "code",
   "execution_count": null,
   "metadata": {
    "collapsed": true
   },
   "outputs": [],
   "source": []
  }
 ],
 "metadata": {
  "kernelspec": {
   "display_name": "Python 3",
   "language": "python",
   "name": "python3"
  },
  "language_info": {
   "codemirror_mode": {
    "name": "ipython",
    "version": 3
   },
   "file_extension": ".py",
   "mimetype": "text/x-python",
   "name": "python",
   "nbconvert_exporter": "python",
   "pygments_lexer": "ipython3",
   "version": "3.4.5"
  }
 },
 "nbformat": 4,
 "nbformat_minor": 2
}
