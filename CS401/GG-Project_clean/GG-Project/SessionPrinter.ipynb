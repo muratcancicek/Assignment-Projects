{
 "cells": [
  {
   "cell_type": "code",
   "execution_count": 1,
   "metadata": {
    "collapsed": false
   },
   "outputs": [],
   "source": [
    "from SparkerMethods import runSpark\n",
    "runSpark()"
   ]
  },
  {
   "cell_type": "code",
   "execution_count": 2,
   "metadata": {
    "collapsed": false
   },
   "outputs": [],
   "source": [
    "from NewExtractorRunner import *\n",
    "from ReadyTests import get32Keywords\n",
    "import paths\n",
    "import PythonVersionHandler\n",
    "PythonVersionHandler.LOGGING = False"
   ]
  },
  {
   "cell_type": "code",
   "execution_count": 9,
   "metadata": {
    "collapsed": false
   },
   "outputs": [],
   "source": [
    "keywords = get32Keywords() \n",
    "extractedPath = 'C:\\\\Users\\\\Muratcan\\\\Desktop\\\\ffff'\n",
    "extractedPath = 'C:\\\\Users\\\\Muratcan\\\\Desktop\\\\logs.rtf'"
   ]
  },
  {
   "cell_type": "code",
   "execution_count": 10,
   "metadata": {
    "collapsed": false
   },
   "outputs": [
    {
     "name": "stdout",
     "output_type": "stream",
     "text": [
      "C:\\Users\\Muratcan\\Desktop\\logs.rtf will be reading by 2017-08-24 18:14:30.142425\n"
     ]
    }
   ],
   "source": [
    "import FinalizedRunners\n",
    "logs = FinalizedRunners.getPreparedLogsFromHDFS(extractedPath)"
   ]
  },
  {
   "cell_type": "code",
   "execution_count": 11,
   "metadata": {
    "collapsed": false
   },
   "outputs": [],
   "source": [
    "import SearchExtractor\n",
    "#keywordDict = SearchExtractor.searchNProductLogsByKeywords(logs, keywords, True)  "
   ]
  },
  {
   "cell_type": "code",
   "execution_count": 12,
   "metadata": {
    "collapsed": false
   },
   "outputs": [
    {
     "name": "stdout",
     "output_type": "stream",
     "text": [
      "1 sessions have been found in total by 2017-08-24 18:14:40.287476\n",
      "1 sessions have been found useful by 2017-08-24 18:14:40.288453\n"
     ]
    }
   ],
   "source": [
    "import Sessionizer\n",
    "sessions = Sessionizer.sessionize(logs)"
   ]
  },
  {
   "cell_type": "code",
   "execution_count": 13,
   "metadata": {
    "collapsed": false,
    "scrolled": true
   },
   "outputs": [
    {
     "name": "stdout",
     "output_type": "stream",
     "text": [
      "\u001b[92mSession begins...\u001b[0m\n",
      "2017-08-22 16:24:45.538000: Searching, Showing 60 products with order wbm on page 1 for iphone 7 for cookie 0.\n",
      "\u001b[95m2017-08-22 16:24:54.890000: 2. Product with id 297673310 clicked. (APPLE iPhone 7 32 GB Rose Gold Akilli Telefon Apple Turkiye Garantili for cookie 0.\u001b[0m\n",
      "2017-08-22 16:25:17.670000: Searching, Showing 60 products with order wbm on page 1 for iphone 7 for cookie 0.\n",
      "\u001b[95m2017-08-22 16:25:28.279000: 3. Product with id 298514440 clicked. (Apple iPhone 7 Plus 128 GB Akilli Cep Telefonu for cookie 0.\u001b[0m\n",
      "2017-08-22 16:25:44.057000: Searching, Showing 60 products with order wbm on page 1 for iphone 7 for cookie 0.\n",
      "\u001b[95m2017-08-22 16:25:50.303000: 6. Product with id 299919753 clicked. (Apple iPhone 7 32 GB Akilli Cep Telefonu for cookie 0.\u001b[0m\n",
      "2017-08-22 16:26:16.630000: Searching, Showing 60 products with order wbm on page 1 for iphone 7 for cookie 0.\n",
      "\u001b[95m2017-08-22 16:26:23.466000: 8. Product with id 299594594 clicked. (Apple Iphone 7 128 GB Kirmizi Renk for cookie 0.\u001b[0m\n",
      "2017-08-22 16:26:44.713000: Searching, Showing 60 products with order wbm on page 1 for iphone 7 for cookie 0.\n",
      "\u001b[95m2017-08-22 16:26:48.013000: 9. Product with id 298840198 clicked. (Apple iPhone 7 128GB Akilli Cep Telefonu for cookie 0.\u001b[0m\n",
      "2017-08-22 16:27:09.864000: Searching, Showing 60 products with order wbm on page 1 for iphone 7 for cookie 0.\n",
      "\u001b[95m2017-08-22 16:27:39.686000: 12. Product with id 295612179 clicked. (APPLE iPhone 7 128GB MN942TU%2FA Gold - Apple TR Garantilidir for cookie 0.\u001b[0m\n",
      "\u001b[94m2017-08-22 16:28:09.715000: 12. Product with id 295612179 added to the cart for cookie 0.\u001b[0m\n",
      "\u001b[95m2017-08-22 16:28:49.041000: 12. Product with id 295612179 clicked. (APPLE iPhone 7 128GB MN942TU%2FA Gold - Apple TR Garantilidir for cookie 0.\u001b[0m\n",
      "2017-08-22 16:28:52.619000: Searching, Showing 60 products with order wbm on page 1 for iphone 7 for cookie 0.\n",
      "\u001b[95m2017-08-22 16:29:05.599000: 10. Product with id 299472050 clicked. (Iphone 7 128GB Red - MPRL2TU%2FA for cookie 0.\u001b[0m\n",
      "2017-08-22 16:29:25.544000: Searching, Showing 60 products with order wbm on page 1 for iphone 7 for cookie 0.\n",
      "\u001b[95m2017-08-22 16:29:34.989000: 13. Product with id 284555859 clicked. (APPLE IPHONE 7 PLUS 32GB BLACK AKILLI TELEFON for cookie 0.\u001b[0m\n",
      "2017-08-22 16:29:41.580000: Searching, Showing 60 products with order wbm on page 1 for iphone 7 for cookie 0.\n",
      "\u001b[95m2017-08-22 16:30:01.119000: 17. Product with id 299752941 clicked. (Apple iPhone 7 128GB Gold - Apple Turkiye Garantili for cookie 0.\u001b[0m\n",
      "2017-08-22 16:30:29.462000: Searching, Showing 60 products with order wbm on page 1 for iphone 7 for cookie 0.\n",
      "\u001b[95m2017-08-22 16:30:39.859000: 13. Product with id 284555859 clicked. (APPLE IPHONE 7 PLUS 32GB BLACK AKILLI TELEFON for cookie 0.\u001b[0m\n",
      "\u001b[94m2017-08-22 16:31:10.991000: 13. Product with id 284555859 added to the cart for cookie 0.\u001b[0m\n",
      "\u001b[95m2017-08-22 16:31:37.030000: 13. Product with id 284555859 clicked. (APPLE IPHONE 7 PLUS 32GB BLACK AKILLI TELEFON for cookie 0.\u001b[0m\n",
      "2017-08-22 16:31:41.814000: Searching, Showing 60 products with order wbm on page 1 for iphone 7 for cookie 0.\n",
      "\u001b[95m2017-08-22 16:31:51.146000: 21. Product with id 294957990 clicked. (Apple iPhone 7 Plus 128GB Jet Black Cep Telefonu - Apple Turkiye Garantili for cookie 0.\u001b[0m\n",
      "\u001b[94m2017-08-22 16:32:47.987000: 21. Product with id 294957990 added to the cart for cookie 0.\u001b[0m\n",
      "\u001b[95m2017-08-22 16:33:08.429000: 21. Product with id 294957990 clicked. (Apple iPhone 7 Plus 128GB Jet Black Cep Telefonu - Apple Turkiye Garantili for cookie 0.\u001b[0m\n",
      "2017-08-22 16:33:13.782000: Searching, Showing 60 products with order wbm on page 1 for iphone 7 for cookie 0.\n",
      "\u001b[95m2017-08-22 16:33:24.514000: 29. Product with id 296469155 clicked. (IPHONE 7 128 GB KIRMIZI CEP TELEFONU APPLE TURKIYE GARANTILI for cookie 0.\u001b[0m\n",
      "2017-08-22 16:33:33.986000: Searching, Showing 60 products with order wbm on page 1 for iphone 7 for cookie 0.\n",
      "\u001b[95m2017-08-22 16:33:37.979000: 27. Product with id 300769695 clicked. (Apple iPhone 7 Plus 32GB Akilli Telefon for cookie 0.\u001b[0m\n",
      "2017-08-22 16:33:46.903000: Searching, Showing 60 products with order wbm on page 1 for iphone 7 for cookie 0.\n",
      "\u001b[95m2017-08-22 16:33:52.916000: 38. Product with id 284154743 clicked. (Apple iPhone 7 Plus 256Gb Altin for cookie 0.\u001b[0m\n",
      "\u001b[94m2017-08-22 16:34:08.316000: 38. Product with id 284154743 added to the cart for cookie 0.\u001b[0m\n",
      "\u001b[95m2017-08-22 16:34:14.432000: 38. Product with id 284154743 clicked. (Apple iPhone 7 Plus 256Gb Altin for cookie 0.\u001b[0m\n",
      "2017-08-22 16:34:19.465000: Searching, Showing 60 products with order wbm on page 1 for iphone 7 for cookie 0.\n",
      "\u001b[95m2017-08-22 16:34:28.848000: 37. Product with id 291705515 clicked. (Apple iPhone 7 Plus 256Gb Siyah for cookie 0.\u001b[0m\n",
      "2017-08-22 16:34:37.050000: Searching, Showing 60 products with order wbm on page 1 for iphone 7 for cookie 0.\n",
      "\u001b[95m2017-08-22 16:34:45.623000: 44. Product with id 296469550 clicked. (IPHONE 7 PLUS 256 GB CEP TELEFONU for cookie 0.\u001b[0m\n",
      "2017-08-22 16:34:53.832000: Searching, Showing 60 products with order wbm on page 1 for iphone 7 for cookie 0.\n",
      "\u001b[95m2017-08-22 16:35:06.121000: 45. Product with id 300181647 clicked. (IPHONE 7 128 GB CEP TELEFONU 6 RENK APPLE TURKIYE GARANTILI for cookie 0.\u001b[0m\n",
      "2017-08-22 16:35:14.028000: Searching, Showing 60 products with order wbm on page 1 for iphone 7 for cookie 0.\n",
      "\u001b[95m2017-08-22 16:35:17.864000: 35. Product with id 300190014 clicked. (Iphone 7 128GB Red - MPRL2TU%2FA for cookie 0.\u001b[0m\n",
      "2017-08-22 16:35:26.956000: Searching, Showing 60 products with order wbm on page 1 for iphone 7 for cookie 0.\n",
      "\u001b[95m2017-08-22 16:35:32.987000: 21. Product with id 294957990 clicked. (Apple iPhone 7 Plus 128GB Jet Black Cep Telefonu - Apple Turkiye Garantili for cookie 0.\u001b[0m\n",
      "2017-08-22 16:35:41.150000: Searching, Showing 60 products with order wbm on page 1 for iphone 7 for cookie 0.\n",
      "\u001b[95m2017-08-22 16:35:51.426000: 4. Product with id 297674194 clicked. (APPLE iPhone 7 32 GB Silver Akilli Telefon Apple Turkiye Garantili for cookie 0.\u001b[0m\n",
      "\u001b[94m2017-08-22 16:36:04.985000: 4. Product with id 297674194 added to the cart for cookie 0.\u001b[0m\n",
      "\u001b[95m2017-08-22 16:36:09.344000: 4. Product with id 297674194 clicked. (APPLE iPhone 7 32 GB Silver Akilli Telefon Apple Turkiye Garantili for cookie 0.\u001b[0m\n",
      "2017-08-22 16:36:11.344000: Searching, Showing 60 products with order wbm on page 1 for iphone 7 for cookie 0.\n",
      "2017-08-22 16:40:26.470000: Refreshed, Showing 60 products with order wbm on page 1 for iphone 7 for cookie 0.\n",
      "\u001b[95m2017-08-22 16:40:41.760000: 1. Product with id 297672997 clicked. (APPLE iPhone 7 32 GB Gold Akilli Telefon Apple Turkiye Garantili for cookie 0.\u001b[0m\n",
      "2017-08-22 16:40:50.877000: Searching, Showing 60 products with order wbm on page 1 for iphone 7 for cookie 0.\n",
      "\u001b[95m2017-08-22 16:40:57.082000: 4. Product with id 297674194 clicked. (APPLE iPhone 7 32 GB Silver Akilli Telefon Apple Turkiye Garantili for cookie 0.\u001b[0m\n",
      "2017-08-22 16:41:06.413000: Searching, Showing 60 products with order wbm on page 1 for iphone 7 for cookie 0.\n",
      "\u001b[95m2017-08-22 16:41:17.604000: 11. Product with id 300163265 clicked. (APPLE IPHONE 7 256GB CEP TELEFONU %2A%2A%2AJETBLACK%2A%2A%2A %28APPLE TR GARANTILI%29 for cookie 0.\u001b[0m\n",
      "\u001b[95m2017-08-22 16:41:17.604000: 11. Product with id 300163265 clicked. (APPLE IPHONE 7 256GB CEP TELEFONU %2A%2A%2AJETBLACK%2A%2A%2A %28APPLE TR GARANTILI%29 for cookie 0.\u001b[0m\n",
      "\u001b[94m2017-08-22 16:41:30.295000: 11. Product with id 300163265 added to the cart for cookie 0.\u001b[0m\n",
      "\u001b[94m2017-08-22 16:41:30.295000: 11. Product with id 300163265 added to the cart for cookie 0.\u001b[0m\n",
      "\u001b[95m2017-08-22 16:41:39.794000: 11. Product with id 300163265 clicked. (APPLE IPHONE 7 256GB CEP TELEFONU %2A%2A%2AJETBLACK%2A%2A%2A %28APPLE TR GARANTILI%29 for cookie 0.\u001b[0m\n",
      "2017-08-22 16:41:41.768000: Searching, Showing 60 products with order wbm on page 1 for iphone 7 for cookie 0.\n",
      "\u001b[95m2017-08-22 16:41:45.780000: 12. Product with id 295612179 clicked. (APPLE iPhone 7 128GB MN942TU%2FA Gold - Apple TR Garantilidir for cookie 0.\u001b[0m\n",
      "2017-08-22 16:41:55.706000: Searching, Showing 60 products with order wbm on page 1 for iphone 7 for cookie 0.\n",
      "\u001b[95m2017-08-22 16:42:02.764000: 14. Product with id 284555842 clicked. (APPLE IPHONE 7 32GB GOLD AKILLI TELEFON for cookie 0.\u001b[0m\n",
      "2017-08-22 16:42:13.901000: Searching, Showing 60 products with order wbm on page 1 for iphone 7 for cookie 0.\n",
      "\u001b[95m2017-08-22 16:42:23.541000: 23. Product with id 289077770 clicked. (Iphone 7 128GB Red - MPRL2TU%2FA for cookie 0.\u001b[0m\n",
      "2017-08-22 16:42:31.596000: Searching, Showing 60 products with order wbm on page 1 for iphone 7 for cookie 0.\n",
      "\u001b[95m2017-08-22 16:42:36.528000: 33. Product with id 291705515 clicked. (Apple iPhone 7 Plus 256Gb Siyah for cookie 0.\u001b[0m\n",
      "\u001b[94m2017-08-22 16:42:42.657000: 33. Product with id 291705515 added to the cart for cookie 0.\u001b[0m\n",
      "\u001b[95m2017-08-22 16:42:46.518000: 33. Product with id 291705515 clicked. (Apple iPhone 7 Plus 256Gb Siyah for cookie 0.\u001b[0m\n",
      "2017-08-22 16:43:03.625000: Searching, Showing 60 products with order wbm on page 1 for iphone 7 for cookie 0.\n",
      "\u001b[95m2017-08-22 16:43:11.239000: 41. Product with id 300190014 clicked. (Iphone 7 128GB Red - MPRL2TU%2FA for cookie 0.\u001b[0m\n",
      "2017-08-22 16:43:18.357000: Searching, Showing 60 products with order wbm on page 1 for iphone 7 for cookie 0.\n",
      "\u001b[95m2017-08-22 16:43:27.481000: 44. Product with id 267698233 clicked. (APPLE IPHONE 7 PLUS 128GB ROSE GOLD for cookie 0.\u001b[0m\n",
      "2017-08-22 16:43:39.224000: Searching, Showing 60 products with order wbm on page 1 for iphone 7 for cookie 0.\n",
      "\u001b[95m2017-08-22 16:43:44.411000: 37. Product with id 282057878 clicked. (Apple iPhone 7 32Gb Gold for cookie 0.\u001b[0m\n",
      "\u001b[94m2017-08-22 16:44:01.786000: 37. Product with id 282057878 added to the cart for cookie 0.\u001b[0m\n",
      "\u001b[95m2017-08-22 16:44:05.560000: 37. Product with id 282057878 clicked. (Apple iPhone 7 32Gb Gold for cookie 0.\u001b[0m\n",
      "2017-08-22 16:44:07.956000: Searching, Showing 60 products with order wbm on page 1 for iphone 7 for cookie 0.\n",
      "\u001b[95m2017-08-22 16:44:16.405000: 43. Product with id 294958005 clicked. (Apple iPhone 7 Plus 256GB Silver Cep Telefonu - Apple Turkiye Garantili for cookie 0.\u001b[0m\n",
      "2017-08-22 16:44:24.235000: Searching, Showing 60 products with order wbm on page 1 for iphone 7 for cookie 0.\n",
      "\u001b[95m2017-08-22 16:44:28.791000: 39. Product with id 300542459 clicked. (IPHONE 7 PLUS 128 GB-APPLE TURKIYE GARANTILI%2CADINIZA FATURALI%2CSIFIR%2CKREDI KARTLI SATIS DEGILDIR. for cookie 0.\u001b[0m\n",
      "2017-08-22 16:44:36.725000: Searching, Showing 60 products with order wbm on page 1 for iphone 7 for cookie 0.\n",
      "\u001b[95m2017-08-22 16:44:41.552000: 45. Product with id 294809681 clicked. (APPLE IPHONE 7 128GB KIRMIZI AKILLI TELEFON for cookie 0.\u001b[0m\n",
      "2017-08-22 16:44:50.956000: Searching, Showing 60 products with order wbm on page 1 for iphone 7 for cookie 0.\n",
      "\u001b[95m2017-08-22 16:44:59.408000: 57. Product with id 300237336 clicked. (Iphone 7 Silver 128 GB%2C 6 Aylik%2C Yaninda 2 tane Iphone 7 orjinal kulakligi ve sarji for cookie 0.\u001b[0m\n",
      "2017-08-22 16:45:07.656000: Searching, Showing 60 products with order wbm on page 1 for iphone 7 for cookie 0.\n",
      "\u001b[95m2017-08-22 16:45:10.629000: 48. Product with id 296469550 clicked. (IPHONE 7 PLUS 256 GB CEP TELEFONU for cookie 0.\u001b[0m\n",
      "\u001b[94m2017-08-22 16:45:31.212000: 48. Product with id 296469550 added to the cart for cookie 0.\u001b[0m\n",
      "\u001b[95m2017-08-22 16:45:34.860000: 48. Product with id 296469550 clicked. (IPHONE 7 PLUS 256 GB CEP TELEFONU for cookie 0.\u001b[0m\n",
      "2017-08-23 08:43:01.271000: Searching, Showing 60 products with order wbm on page 1 for iphone 7 for cookie 0.\n",
      "\u001b[95m2017-08-23 08:43:25.398000: 1. Product with id 297673310 clicked. (APPLE iPhone 7 32 GB Rose Gold Akilli Telefon Apple Turkiye Garantili for cookie 0.\u001b[0m\n",
      "2017-08-23 08:43:39.792000: Searching, Showing 60 products with order wbm on page 1 for iphone 7 for cookie 0.\n",
      "\u001b[95m2017-08-23 08:43:43.019000: 3. Product with id 298514440 clicked. (Apple iPhone 7 Plus 128 GB Akilli Cep Telefonu for cookie 0.\u001b[0m\n",
      "2017-08-23 08:43:53.849000: Searching, Showing 60 products with order wbm on page 1 for iphone 7 for cookie 0.\n",
      "\u001b[95m2017-08-23 08:44:12.923000: 11. Product with id 284555842 clicked. (APPLE IPHONE 7 32GB GOLD AKILLI TELEFON for cookie 0.\u001b[0m\n",
      "2017-08-23 08:44:23.818000: Searching, Showing 60 products with order wbm on page 1 for iphone 7 for cookie 0.\n",
      "\u001b[95m2017-08-23 08:44:27.820000: 12. Product with id 284555859 clicked. (APPLE IPHONE 7 PLUS 32GB BLACK AKILLI TELEFON for cookie 0.\u001b[0m\n",
      "2017-08-23 08:44:38.824000: Searching, Showing 60 products with order wbm on page 1 for iphone 7 for cookie 0.\n",
      "\u001b[95m2017-08-23 08:44:48.286000: 14. Product with id 299753140 clicked. (Apple iPhone 7 Plus 256GB Telefon - Simsiyah %28MN512TU%2FA%29 for cookie 0.\u001b[0m\n",
      "\u001b[94m2017-08-23 08:45:01.831000: 14. Product with id 299753140 added to the cart for cookie 0.\u001b[0m\n",
      "\u001b[95m2017-08-23 08:45:06: 14. Product with id 299753140 clicked. (Apple iPhone 7 Plus 256GB Telefon - Simsiyah %28MN512TU%2FA%29 for cookie 0.\u001b[0m\n",
      "2017-08-23 08:45:08.456000: Searching, Showing 60 products with order wbm on page 1 for iphone 7 for cookie 0.\n",
      "\u001b[95m2017-08-23 08:45:20.533000: 16. Product with id 298518363 clicked. (Apple iPhone 7 Plus 256Gb Simsiyah for cookie 0.\u001b[0m\n",
      "2017-08-23 08:45:37.389000: Searching, Showing 60 products with order wbm on page 1 for iphone 7 for cookie 0.\n",
      "\u001b[95m2017-08-23 08:45:43.862000: 21. Product with id 289077770 clicked. (Iphone 7 128GB Red - MPRL2TU%2FA for cookie 0.\u001b[0m\n",
      "2017-08-23 08:45:59.507000: Searching, Showing 60 products with order wbm on page 1 for iphone 7 for cookie 0.\n",
      "\u001b[95m2017-08-23 08:46:09.529000: 22. Product with id 295698790 clicked. (APPLE IPHONE 7 PLUS 128GB JET BLACK for cookie 0.\u001b[0m\n",
      "2017-08-23 08:46:39.004000: Searching, Showing 60 products with order wbm on page 1 for iphone 7 for cookie 0.\n",
      "\u001b[95m2017-08-23 08:46:46.855000: 25. Product with id 300237336 clicked. (Iphone 7 Silver 128 GB%2C 6 Aylik%2C Yaninda 2 tane Iphone 7 orjinal kulakligi ve sarji for cookie 0.\u001b[0m\n",
      "2017-08-23 08:46:56.770000: Searching, Showing 60 products with order wbm on page 1 for iphone 7 for cookie 0.\n",
      "\u001b[95m2017-08-23 08:47:08.669000: 28. Product with id 295612179 clicked. (APPLE iPhone 7 128GB MN942TU%2FA Gold - Apple TR Garantilidir for cookie 0.\u001b[0m\n",
      "2017-08-23 08:47:18.126000: Searching, Showing 60 products with order wbm on page 1 for iphone 7 for cookie 0.\n",
      "\u001b[95m2017-08-23 08:47:24.573000: 27. Product with id 300820461 clicked. (IPHONE 7 PLUS MAT SIYAH 32 GB TEMIZ for cookie 0.\u001b[0m\n",
      "\u001b[94m2017-08-23 08:47:37.207000: 27. Product with id 300820461 added to the cart for cookie 0.\u001b[0m\n",
      "\u001b[95m2017-08-23 08:47:42.091000: 27. Product with id 300820461 clicked. (IPHONE 7 PLUS MAT SIYAH 32 GB TEMIZ for cookie 0.\u001b[0m\n",
      "2017-08-23 08:47:43.563000: Searching, Showing 60 products with order wbm on page 1 for iphone 7 for cookie 0.\n",
      "\u001b[95m2017-08-23 08:47:58.336000: 32. Product with id 300768860 clicked. (Apple iPhone 7 32GB Akilli Telefon for cookie 0.\u001b[0m\n",
      "2017-08-23 08:48:06.775000: Searching, Showing 60 products with order wbm on page 1 for iphone 7 for cookie 0.\n",
      "\u001b[95m2017-08-23 08:48:15.412000: 40. Product with id 282060939 clicked. (Apple iPhone 7 Special Edition 128GB for cookie 0.\u001b[0m\n",
      "\u001b[94m2017-08-23 08:48:28.590000: 40. Product with id 282060939 added to the cart for cookie 0.\u001b[0m\n",
      "\u001b[95m2017-08-23 08:48:32.825000: 40. Product with id 282060939 clicked. (Apple iPhone 7 Special Edition 128GB for cookie 0.\u001b[0m\n",
      "2017-08-23 08:48:34.578000: Searching, Showing 60 products with order wbm on page 1 for iphone 7 for cookie 0.\n",
      "\u001b[95m2017-08-23 08:48:48.425000: 4. Product with id 297674194 clicked. (APPLE iPhone 7 32 GB Silver Akilli Telefon Apple Turkiye Garantili for cookie 0.\u001b[0m\n",
      "2017-08-23 09:44:12.552000: Searching, Showing 60 products with order wbm on page 1 for iphone 7 for cookie 0.\n",
      "\u001b[95m2017-08-23 09:44:40.988000: 2. Product with id 297672997 clicked. (APPLE iPhone 7 32 GB Gold Akilli Telefon Apple Turkiye Garantili for cookie 0.\u001b[0m\n",
      "2017-08-23 09:44:56.087000: Searching, Showing 60 products with order wbm on page 1 for iphone 7 for cookie 0.\n",
      "\u001b[95m2017-08-23 09:45:06.471000: 12. Product with id 299472050 clicked. (Iphone 7 128GB Red - MPRL2TU%2FA for cookie 0.\u001b[0m\n",
      "2017-08-23 09:45:18.855000: Searching, Showing 60 products with order wbm on page 1 for iphone 7 for cookie 0.\n",
      "\u001b[95m2017-08-23 09:45:27.600000: 13. Product with id 284555842 clicked. (APPLE IPHONE 7 32GB GOLD AKILLI TELEFON for cookie 0.\u001b[0m\n",
      "\u001b[94m2017-08-23 09:45:41.558000: 13. Product with id 284555842 added to the cart for cookie 0.\u001b[0m\n",
      "\u001b[95m2017-08-23 09:45:46.054000: 13. Product with id 284555842 clicked. (APPLE IPHONE 7 32GB GOLD AKILLI TELEFON for cookie 0.\u001b[0m\n",
      "2017-08-23 09:45:47.813000: Searching, Showing 60 products with order wbm on page 1 for iphone 7 for cookie 0.\n",
      "\u001b[95m2017-08-23 09:46:05.545000: 14. Product with id 284555859 clicked. (APPLE IPHONE 7 PLUS 32GB BLACK AKILLI TELEFON for cookie 0.\u001b[0m\n",
      "\u001b[94m2017-08-23 09:46:31.128000: 14. Product with id 284555859 added to the cart for cookie 0.\u001b[0m\n",
      "\u001b[95m2017-08-23 09:46:36.668000: 14. Product with id 284555859 clicked. (APPLE IPHONE 7 PLUS 32GB BLACK AKILLI TELEFON for cookie 0.\u001b[0m\n",
      "2017-08-23 09:46:39.270000: Searching, Showing 60 products with order wbm on page 1 for iphone 7 for cookie 0.\n",
      "\u001b[95m2017-08-23 09:46:53.581000: 15. Product with id 299753143 clicked. (Apple iPhone 7 256GB Cep Telefonu - Siyah %28MN972TU%2FA%29 for cookie 0.\u001b[0m\n",
      "2017-08-23 09:47:10.588000: Searching, Showing 60 products with order wbm on page 1 for iphone 7 for cookie 0.\n",
      "\u001b[95m2017-08-23 09:47:14.877000: 11. Product with id 298840198 clicked. (Apple iPhone 7 128GB Akilli Cep Telefonu for cookie 0.\u001b[0m\n",
      "2017-08-23 09:47:29.582000: Searching, Showing 60 products with order wbm on page 1 for iphone 7 for cookie 0.\n",
      "\u001b[95m2017-08-23 09:47:37.324000: 10. Product with id 299594594 clicked. (Apple Iphone 7 128 GB Kirmizi Renk for cookie 0.\u001b[0m\n",
      "2017-08-23 09:47:49.731000: Searching, Showing 60 products with order wbm on page 1 for iphone 7 for cookie 0.\n",
      "\u001b[95m2017-08-23 09:47:57.150000: 53. Product with id 300190014 clicked. (Iphone 7 128GB Red - MPRL2TU%2FA for cookie 0.\u001b[0m\n",
      "2017-08-23 09:48:08.400000: Searching, Showing 60 products with order wbm on page 1 for iphone 7 for cookie 0.\n",
      "\u001b[95m2017-08-23 09:48:11.986000: 44. Product with id 267698233 clicked. (APPLE IPHONE 7 PLUS 128GB ROSE GOLD for cookie 0.\u001b[0m\n",
      "2017-08-23 09:48:22.348000: Searching, Showing 60 products with order wbm on page 1 for iphone 7 for cookie 0.\n",
      "\u001b[95m2017-08-23 09:48:26.078000: 37. Product with id 291705515 clicked. (Apple iPhone 7 Plus 256Gb Siyah for cookie 0.\u001b[0m\n",
      "2017-08-23 09:48:35.592000: Searching, Showing 60 products with order wbm on page 1 for iphone 7 for cookie 0.\n",
      "\u001b[95m2017-08-23 09:48:46.280000: 1. Product with id 297673310 clicked. (APPLE iPhone 7 32 GB Rose Gold Akilli Telefon Apple Turkiye Garantili for cookie 0.\u001b[0m\n",
      "2017-08-23 09:48:58.397000: Searching, Showing 60 products with order wbm on page 1 for iphone 7 for cookie 0.\n",
      "\u001b[95m2017-08-23 09:49:09.360000: 48. Product with id 300185370 clicked. (IPhone 7 128GB Jet Black Cep Telefonu for cookie 0.\u001b[0m\n",
      "\u001b[94m2017-08-23 09:49:32.861000: 48. Product with id 300185370 added to the cart for cookie 0.\u001b[0m\n",
      "\u001b[95m2017-08-23 09:49:37.372000: 48. Product with id 300185370 clicked. (IPhone 7 128GB Jet Black Cep Telefonu for cookie 0.\u001b[0m\n",
      "2017-08-23 09:49:46.947000: Searching, Showing 60 products with order wbm on page 1 for iphone 7 for cookie 0.\n",
      "\u001b[95m2017-08-23 09:49:52.818000: 42. Product with id 294958009 clicked. (Apple iPhone 7 256GB Gold Cep Telefonu - Apple Turkiye Garantili for cookie 0.\u001b[0m\n",
      "2017-08-23 09:50:03.965000: Searching, Showing 60 products with order wbm on page 1 for iphone 7 for cookie 0.\n",
      "\u001b[95m2017-08-23 09:50:11.196000: 40. Product with id 282060939 clicked. (Apple iPhone 7 Special Edition 128GB for cookie 0.\u001b[0m\n",
      "2017-08-23 09:50:23.626000: Searching, Showing 60 products with order wbm on page 1 for iphone 7 for cookie 0.\n",
      "\u001b[95m2017-08-23 09:50:30.417000: 43. Product with id 294958005 clicked. (Apple iPhone 7 Plus 256GB Silver Cep Telefonu - Apple Turkiye Garantili for cookie 0.\u001b[0m\n",
      "2017-08-23 09:50:44.075000: Searching, Showing 60 products with order wbm on page 1 for iphone 7 for cookie 0.\n",
      "\u001b[95m2017-08-23 09:50:51.038000: 6. Product with id 300770578 clicked. (Apple iPhone 7 Plus 128GB Akilli Telefon for cookie 0.\u001b[0m\n",
      "2017-08-23 09:51:02.532000: Searching, Showing 60 products with order wbm on page 1 for iphone 7 for cookie 0.\n",
      "\u001b[95m2017-08-23 09:51:22.995000: 57. Product with id 299753135 clicked. (Apple iPhone 7 Plus 256GB Telefon - Gumus %28MN4X2TU%2FA%29 for cookie 0.\u001b[0m\n",
      "2017-08-23 09:51:33.140000: Searching, Showing 60 products with order wbm on page 1 for iphone 7 for cookie 0.\n",
      "\u001b[95m2017-08-23 09:51:37.770000: 46. Product with id 294228210 clicked. (APPLE IPHONE 7 128GB GOLD for cookie 0.\u001b[0m\n",
      "2017-08-23 09:51:48.440000: Searching, Showing 60 products with order wbm on page 1 for iphone 7 for cookie 0.\n",
      "\u001b[95m2017-08-23 09:51:52.350000: 40. Product with id 282060939 clicked. (Apple iPhone 7 Special Edition 128GB for cookie 0.\u001b[0m\n",
      "\u001b[94m2017-08-23 09:52:15.671000: 40. Product with id 282060939 added to the cart for cookie 0.\u001b[0m\n",
      "\u001b[95m2017-08-23 09:52:23.074000: 40. Product with id 282060939 clicked. (Apple iPhone 7 Special Edition 128GB for cookie 0.\u001b[0m\n",
      "2017-08-23 09:52:25.093000: Searching, Showing 60 products with order wbm on page 1 for iphone 7 for cookie 0.\n",
      "\u001b[95m2017-08-23 09:52:38.871000: 60. Product with id 299752940 clicked. (Apple iPhone 7 32GB Cep Telefonu - Roze Altin %28MN912TU%2FA%29 for cookie 0.\u001b[0m\n",
      "2017-08-23 09:52:52.897000: Searching, Showing 60 products with order wbm on page 1 for iphone 7 for cookie 0.\n",
      "\u001b[95m2017-08-23 09:52:55.967000: 49. Product with id 300799935 clicked. (Siyah IPhone 7 Plus 32 GB for cookie 0.\u001b[0m\n",
      "2017-08-23 09:53:05.878000: Searching, Showing 60 products with order wbm on page 1 for iphone 7 for cookie 0.\n",
      "\u001b[95m2017-08-23 09:53:08.617000: 42. Product with id 294958009 clicked. (Apple iPhone 7 256GB Gold Cep Telefonu - Apple Turkiye Garantili for cookie 0.\u001b[0m\n",
      "2017-08-23 09:53:20.253000: Searching, Showing 60 products with order wbm on page 1 for iphone 7 for cookie 0.\n",
      "\u001b[95m2017-08-23 09:53:30.962000: 10. Product with id 299594594 clicked. (Apple Iphone 7 128 GB Kirmizi Renk for cookie 0.\u001b[0m\n",
      "2017-08-23 09:53:42.513000: Searching, Showing 60 products with order wbm on page 1 for iphone 7 for cookie 0.\n",
      "\u001b[95m2017-08-23 09:53:48.409000: 15. Product with id 299753143 clicked. (Apple iPhone 7 256GB Cep Telefonu - Siyah %28MN972TU%2FA%29 for cookie 0.\u001b[0m\n",
      "2017-08-23 09:53:58.810000: Searching, Showing 60 products with order wbm on page 1 for iphone 7 for cookie 0.\n",
      "\u001b[95m2017-08-23 09:54:04.321000: 18. Product with id 298518363 clicked. (Apple iPhone 7 Plus 256Gb Simsiyah for cookie 0.\u001b[0m\n",
      "2017-08-23 09:54:16.642000: Searching, Showing 60 products with order wbm on page 1 for iphone 7 for cookie 0.\n",
      "\u001b[95m2017-08-23 09:54:24.439000: 22. Product with id 297838894 clicked. (APPLE IPHONE 7 PLUS 32GB GOLD AKILLI TELEFON for cookie 0.\u001b[0m\n",
      "2017-08-23 09:54:34.849000: Searching, Showing 60 products with order wbm on page 1 for iphone 7 for cookie 0.\n",
      "\u001b[95m2017-08-23 09:54:43.149000: 3. Product with id 298514440 clicked. (Apple iPhone 7 Plus 128 GB Akilli Cep Telefonu for cookie 0.\u001b[0m\n",
      "2017-08-23 09:55:05.164000: Searching, Showing 60 products with order wbm on page 1 for iphone 7 for cookie 0.\n",
      "\u001b[95m2017-08-23 09:55:14.428000: 37. Product with id 291705515 clicked. (Apple iPhone 7 Plus 256Gb Siyah for cookie 0.\u001b[0m\n",
      "2017-08-23 09:55:29.408000: Searching, Showing 60 products with order wbm on page 1 for iphone 7 for cookie 0.\n",
      "\u001b[95m2017-08-23 09:55:33.797000: 33. Product with id 296469155 clicked. (IPHONE 7 128 GB KIRMIZI CEP TELEFONU APPLE TURKIYE GARANTILI for cookie 0.\u001b[0m\n",
      "2017-08-23 09:55:45.077000: Searching, Showing 60 products with order wbm on page 1 for iphone 7 for cookie 0.\n",
      "\u001b[95m2017-08-23 09:55:52.130000: 40. Product with id 282060939 clicked. (Apple iPhone 7 Special Edition 128GB for cookie 0.\u001b[0m\n",
      "\u001b[94m2017-08-23 09:56:09.380000: 40. Product with id 282060939 added to the cart for cookie 0.\u001b[0m\n",
      "\u001b[92mSession end.\u001b[0m\n"
     ]
    }
   ],
   "source": [
    "import SparkLogReader\n",
    "SparkLogReader.printSessionActions(sessions[0])"
   ]
  },
  {
   "cell_type": "code",
   "execution_count": null,
   "metadata": {
    "collapsed": true
   },
   "outputs": [],
   "source": []
  }
 ],
 "metadata": {
  "kernelspec": {
   "display_name": "Python [default]",
   "language": "python",
   "name": "python3"
  },
  "language_info": {
   "codemirror_mode": {
    "name": "ipython",
    "version": 3
   },
   "file_extension": ".py",
   "mimetype": "text/x-python",
   "name": "python",
   "nbconvert_exporter": "python",
   "pygments_lexer": "ipython3",
   "version": "3.5.2"
  }
 },
 "nbformat": 4,
 "nbformat_minor": 2
}
