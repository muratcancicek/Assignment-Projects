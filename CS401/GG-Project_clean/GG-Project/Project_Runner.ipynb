{
 "cells": [
  {
   "cell_type": "code",
   "execution_count": 1,
   "metadata": {
    "collapsed": false
   },
   "outputs": [
    {
     "name": "stdout",
     "output_type": "stream",
     "text": [
      "########################################################################################\n",
      "########################################################################################\n",
      "########################################################################################\n",
      "2017-08-24 01:47:34.048609: Running on MSI\n",
      "C:\\Users\\Muratcan\\Desktop\\logs.rtf will be reading by 2017-08-24 01:47:44.417746\n",
      "194 logs has been filtered from 194 logs in total by 2017-08-24 01:47:50.633111\n",
      "194 have been prepared by 2017-08-24 01:47:52.708281\n",
      "96\n",
      "{'page': 'cep-telefonu-ve-aksesuar/apple-iphone-7-32-gb-rose-gold-akilli-telefon-apple-turkiye-garantili-297673310'}\n",
      "{'page': 'cep-telefonu-ve-aksesuar/apple-iphone-7-plus-128-gb-akilli-cep-telefonu-298514440'}\n",
      "{'page': 'cep-telefonu-ve-aksesuar/apple-iphone-7-32-gb-akilli-cep-telefonu-299919753'}\n",
      "{'page': 'cep-telefonu-ve-aksesuar/apple-iphone-7-128-gb-kirmizi-renk-299594594'}\n",
      "{'page': 'cep-telefonu-ve-aksesuar/apple-iphone-7-128gb-akilli-cep-telefonu-298840198'}\n",
      "{'page': 'cep-telefonu-ve-aksesuar/apple-iphone-7-128gb-mn942tu-a-gold-apple-tr-garantilidir-295612179'}\n",
      "{'page': 'cep-telefonu-ve-aksesuar/apple-iphone-7-128gb-mn942tu-a-gold-apple-tr-garantilidir-295612179'}\n",
      "{'page': 'cep-telefonu-ve-aksesuar/iphone-7-128gb-red-mprl2tu-a-299472050'}\n",
      "{'page': 'cep-telefonu-ve-aksesuar/apple-iphone-7-plus-32gb-black-akilli-telefon-284555859'}\n",
      "{'page': 'cep-telefonu-ve-aksesuar/apple-iphone-7-128gb-gold-apple-turkiye-garantili-299752941'}\n",
      "{'page': 'cep-telefonu-ve-aksesuar/apple-iphone-7-plus-32gb-black-akilli-telefon-284555859'}\n",
      "{'page': 'cep-telefonu-ve-aksesuar/apple-iphone-7-plus-32gb-black-akilli-telefon-284555859'}\n",
      "{'page': 'cep-telefonu-ve-aksesuar/apple-iphone-7-plus-128gb-jet-black-cep-telefonu-apple-turkiye-garantili-294957990'}\n",
      "{'page': 'cep-telefonu-ve-aksesuar/apple-iphone-7-plus-128gb-jet-black-cep-telefonu-apple-turkiye-garantili-294957990'}\n",
      "{'page': 'cep-telefonu-ve-aksesuar/iphone-7-128-gb-kirmizi-cep-telefonu-apple-turkiye-garantili-296469155'}\n",
      "{'page': 'cep-telefonu-ve-aksesuar/apple-iphone-7-plus-32gb-akilli-telefon-300769695'}\n",
      "{'page': 'cep-telefonu-ve-aksesuar/apple-iphone-7-plus-256gb-altin-284154743'}\n",
      "{'page': 'cep-telefonu-ve-aksesuar/apple-iphone-7-plus-256gb-altin-284154743'}\n",
      "{'page': 'cep-telefonu-ve-aksesuar/apple-iphone-7-plus-256gb-siyah-291705515'}\n",
      "{'page': 'cep-telefonu-ve-aksesuar/iphone-7-plus-256-gb-cep-telefonu-296469550'}\n",
      "{'page': 'cep-telefonu-ve-aksesuar/iphone-7-128-gb-cep-telefonu-6-renk-apple-turkiye-garantili-300181647'}\n",
      "{'page': 'cep-telefonu-ve-aksesuar/iphone-7-128gb-red-mprl2tu-a-300190014'}\n",
      "{'page': 'cep-telefonu-ve-aksesuar/apple-iphone-7-plus-128gb-jet-black-cep-telefonu-apple-turkiye-garantili-294957990'}\n",
      "{'page': 'cep-telefonu-ve-aksesuar/apple-iphone-7-32-gb-silver-akilli-telefon-apple-turkiye-garantili-297674194'}\n",
      "{'page': 'cep-telefonu-ve-aksesuar/apple-iphone-7-32-gb-silver-akilli-telefon-apple-turkiye-garantili-297674194'}\n",
      "{'page': 'cep-telefonu-ve-aksesuar/apple-iphone-7-32-gb-gold-akilli-telefon-apple-turkiye-garantili-297672997'}\n",
      "{'page': 'cep-telefonu-ve-aksesuar/apple-iphone-7-32-gb-silver-akilli-telefon-apple-turkiye-garantili-297674194'}\n",
      "{'page': 'cep-telefonu-ve-aksesuar/apple-iphone-7-256gb-cep-telefonu-jetblack-apple-tr-garantili-300163265'}\n",
      "{'page': 'cep-telefonu-ve-aksesuar/apple-iphone-7-256gb-cep-telefonu-jetblack-apple-tr-garantili-300163265'}\n",
      "{'page': 'cep-telefonu-ve-aksesuar/apple-iphone-7-256gb-cep-telefonu-jetblack-apple-tr-garantili-300163265'}\n",
      "{'page': 'cep-telefonu-ve-aksesuar/apple-iphone-7-128gb-mn942tu-a-gold-apple-tr-garantilidir-295612179'}\n",
      "{'page': 'cep-telefonu-ve-aksesuar/apple-iphone-7-32gb-gold-akilli-telefon-284555842'}\n",
      "{'page': 'cep-telefonu-ve-aksesuar/iphone-7-128gb-red-mprl2tu-a-289077770'}\n",
      "{'page': 'cep-telefonu-ve-aksesuar/apple-iphone-7-plus-256gb-siyah-291705515'}\n",
      "{'page': 'cep-telefonu-ve-aksesuar/apple-iphone-7-plus-256gb-siyah-291705515'}\n",
      "{'page': 'cep-telefonu-ve-aksesuar/iphone-7-128gb-red-mprl2tu-a-300190014'}\n",
      "{'page': 'cep-telefonu-ve-aksesuar/apple-iphone-7-plus-128gb-rose-gold-267698233'}\n",
      "{'page': 'cep-telefonu-ve-aksesuar/apple-iphone-7-32gb-gold-282057878'}\n",
      "{'page': 'cep-telefonu-ve-aksesuar/apple-iphone-7-32gb-gold-282057878'}\n",
      "{'page': 'cep-telefonu-ve-aksesuar/apple-iphone-7-plus-256gb-silver-cep-telefonu-apple-turkiye-garantili-294958005'}\n",
      "{'page': 'cep-telefonu-ve-aksesuar/iphone-7-plus-128-gb-apple-turkiye-garantili-adiniza-faturali-sifir-kredi-kartli-satis-degildir-300542459'}\n",
      "{'page': 'cep-telefonu-ve-aksesuar/apple-iphone-7-128gb-kirmizi-akilli-telefon-294809681'}\n",
      "{'page': 'cep-telefonu-ve-aksesuar/iphone-7-silver-128-gb-6-aylik-yaninda-2-tane-iphone-7-orjinal-kulakligi-ve-sarji-300237336'}\n",
      "{'page': 'cep-telefonu-ve-aksesuar/iphone-7-plus-256-gb-cep-telefonu-296469550'}\n",
      "{'page': 'cep-telefonu-ve-aksesuar/iphone-7-plus-256-gb-cep-telefonu-296469550'}\n",
      "{'page': 'cep-telefonu-ve-aksesuar/apple-iphone-7-32-gb-rose-gold-akilli-telefon-apple-turkiye-garantili-297673310'}\n",
      "{'page': 'cep-telefonu-ve-aksesuar/apple-iphone-7-plus-128-gb-akilli-cep-telefonu-298514440'}\n",
      "{'page': 'cep-telefonu-ve-aksesuar/apple-iphone-7-32gb-gold-akilli-telefon-284555842'}\n",
      "{'page': 'cep-telefonu-ve-aksesuar/apple-iphone-7-plus-32gb-black-akilli-telefon-284555859'}\n",
      "{'page': 'cep-telefonu-ve-aksesuar/apple-iphone-7-plus-256gb-telefon-simsiyah-mn512tu-a-299753140'}\n",
      "{'page': 'cep-telefonu-ve-aksesuar/apple-iphone-7-plus-256gb-telefon-simsiyah-mn512tu-a-299753140'}\n",
      "{'page': 'cep-telefonu-ve-aksesuar/apple-iphone-7-plus-256gb-simsiyah-298518363'}\n",
      "{'page': 'cep-telefonu-ve-aksesuar/iphone-7-128gb-red-mprl2tu-a-289077770'}\n",
      "{'page': 'cep-telefonu-ve-aksesuar/apple-iphone-7-plus-128gb-jet-black-295698790'}\n",
      "{'page': 'cep-telefonu-ve-aksesuar/iphone-7-silver-128-gb-6-aylik-yaninda-2-tane-iphone-7-orjinal-kulakligi-ve-sarji-300237336'}\n",
      "{'page': 'cep-telefonu-ve-aksesuar/apple-iphone-7-128gb-mn942tu-a-gold-apple-tr-garantilidir-295612179'}\n",
      "{'page': 'cep-telefonu-ve-aksesuar/iphone-7-plus-mat-siyah-32-gb-temiz-300820461'}\n",
      "{'page': 'cep-telefonu-ve-aksesuar/iphone-7-plus-mat-siyah-32-gb-temiz-300820461'}\n",
      "{'page': 'cep-telefonu-ve-aksesuar/apple-iphone-7-32gb-akilli-telefon-300768860'}\n",
      "{'page': 'cep-telefonu-ve-aksesuar/apple-iphone-7-special-edition-128gb-282060939'}\n",
      "{'page': 'cep-telefonu-ve-aksesuar/apple-iphone-7-special-edition-128gb-282060939'}\n",
      "{'page': 'cep-telefonu-ve-aksesuar/apple-iphone-7-32-gb-silver-akilli-telefon-apple-turkiye-garantili-297674194'}\n",
      "{'page': 'cep-telefonu-ve-aksesuar/apple-iphone-7-32-gb-gold-akilli-telefon-apple-turkiye-garantili-297672997'}\n",
      "{'page': 'cep-telefonu-ve-aksesuar/iphone-7-128gb-red-mprl2tu-a-299472050'}\n",
      "{'page': 'cep-telefonu-ve-aksesuar/apple-iphone-7-32gb-gold-akilli-telefon-284555842'}\n",
      "{'page': 'cep-telefonu-ve-aksesuar/apple-iphone-7-32gb-gold-akilli-telefon-284555842'}\n",
      "{'page': 'cep-telefonu-ve-aksesuar/apple-iphone-7-plus-32gb-black-akilli-telefon-284555859'}\n",
      "{'page': 'cep-telefonu-ve-aksesuar/apple-iphone-7-plus-32gb-black-akilli-telefon-284555859'}\n",
      "{'page': 'cep-telefonu-ve-aksesuar/apple-iphone-7-256gb-cep-telefonu-siyah-mn972tu-a-299753143'}\n",
      "{'page': 'cep-telefonu-ve-aksesuar/apple-iphone-7-128gb-akilli-cep-telefonu-298840198'}\n",
      "{'page': 'cep-telefonu-ve-aksesuar/apple-iphone-7-128-gb-kirmizi-renk-299594594'}\n",
      "{'page': 'cep-telefonu-ve-aksesuar/iphone-7-128gb-red-mprl2tu-a-300190014'}\n",
      "{'page': 'cep-telefonu-ve-aksesuar/apple-iphone-7-plus-128gb-rose-gold-267698233'}\n",
      "{'page': 'cep-telefonu-ve-aksesuar/apple-iphone-7-plus-256gb-siyah-291705515'}\n",
      "{'page': 'cep-telefonu-ve-aksesuar/apple-iphone-7-32-gb-rose-gold-akilli-telefon-apple-turkiye-garantili-297673310'}\n",
      "{'page': 'cep-telefonu-ve-aksesuar/iphone-7-128gb-jet-black-cep-telefonu-300185370'}\n",
      "{'page': 'cep-telefonu-ve-aksesuar/iphone-7-128gb-jet-black-cep-telefonu-300185370'}\n",
      "{'page': 'cep-telefonu-ve-aksesuar/apple-iphone-7-256gb-gold-cep-telefonu-apple-turkiye-garantili-294958009'}\n",
      "{'page': 'cep-telefonu-ve-aksesuar/apple-iphone-7-special-edition-128gb-282060939'}\n",
      "{'page': 'cep-telefonu-ve-aksesuar/apple-iphone-7-plus-256gb-silver-cep-telefonu-apple-turkiye-garantili-294958005'}\n",
      "{'page': 'cep-telefonu-ve-aksesuar/apple-iphone-7-plus-128gb-akilli-telefon-300770578'}\n",
      "{'page': 'cep-telefonu-ve-aksesuar/apple-iphone-7-plus-256gb-telefon-gumus-mn4x2tu-a-299753135'}\n",
      "{'page': 'cep-telefonu-ve-aksesuar/apple-iphone-7-128gb-gold-294228210'}\n",
      "{'page': 'cep-telefonu-ve-aksesuar/apple-iphone-7-special-edition-128gb-282060939'}\n",
      "{'page': 'cep-telefonu-ve-aksesuar/apple-iphone-7-special-edition-128gb-282060939'}\n",
      "{'page': 'cep-telefonu-ve-aksesuar/apple-iphone-7-32gb-cep-telefonu-roze-altin-mn912tu-a-299752940'}\n",
      "{'page': 'cep-telefonu-ve-aksesuar/siyah-iphone-7-plus-32-gb-300799935'}\n",
      "{'page': 'cep-telefonu-ve-aksesuar/apple-iphone-7-256gb-gold-cep-telefonu-apple-turkiye-garantili-294958009'}\n",
      "{'page': 'cep-telefonu-ve-aksesuar/apple-iphone-7-128-gb-kirmizi-renk-299594594'}\n",
      "{'page': 'cep-telefonu-ve-aksesuar/apple-iphone-7-256gb-cep-telefonu-siyah-mn972tu-a-299753143'}\n",
      "{'page': 'cep-telefonu-ve-aksesuar/apple-iphone-7-plus-256gb-simsiyah-298518363'}\n",
      "{'page': 'cep-telefonu-ve-aksesuar/apple-iphone-7-plus-32gb-gold-akilli-telefon-297838894'}\n",
      "{'page': 'cep-telefonu-ve-aksesuar/apple-iphone-7-plus-128-gb-akilli-cep-telefonu-298514440'}\n",
      "{'page': 'cep-telefonu-ve-aksesuar/apple-iphone-7-plus-256gb-siyah-291705515'}\n",
      "{'page': 'cep-telefonu-ve-aksesuar/iphone-7-128-gb-kirmizi-cep-telefonu-apple-turkiye-garantili-296469155'}\n",
      "{'page': 'cep-telefonu-ve-aksesuar/apple-iphone-7-special-edition-128gb-282060939\\\\'}\n",
      "2017-08-24 01:47:56.982411: DONE\n",
      "########################################################################################\n",
      "########################################################################################\n",
      "########################################################################################\n"
     ]
    }
   ],
   "source": [
    "from RunnerOnJupyter import runOnJupyter\n",
    "runOnJupyter()"
   ]
  },
  {
   "cell_type": "code",
   "execution_count": 1,
   "metadata": {
    "collapsed": false,
    "scrolled": true
   },
   "outputs": [],
   "source": [
    "def t():\n",
    "    import paths, FinalizedRunners, ReadyTests\n",
    "    inputPaths = 'hdfs://osldevptst01.host.gittigidiyor.net:8020/user/root/logs.rtf'\n",
    "    keywords = ['iphone 7']\n",
    "    outputPath = paths.joinPath(paths.HDFSRootFolder, 'test34')\n",
    "    FinalizedRunners.pairLabellingFromObjectiveLogs(inputPaths, keywords, outputPath)   \n",
    "#runOnJupyter(t)"
   ]
  },
  {
   "cell_type": "code",
   "execution_count": 2,
   "metadata": {
    "collapsed": false,
    "scrolled": true
   },
   "outputs": [],
   "source": [
    "def t():\n",
    "    import FinalizedRunners\n",
    "    FinalizedRunners.trainForKeyword('iphone_7', folder = '/root/Projects/Assignment-Projects/CS401/GG-Project_clean/GG-Project', saving = False)\n",
    "#runOnJupyter(t)"
   ]
  }
 ],
 "metadata": {
  "anaconda-cloud": {},
  "kernelspec": {
   "display_name": "Python [default]",
   "language": "python",
   "name": "python3"
  },
  "language_info": {
   "codemirror_mode": {
    "name": "ipython",
    "version": 3
   },
   "file_extension": ".py",
   "mimetype": "text/x-python",
   "name": "python",
   "nbconvert_exporter": "python",
   "pygments_lexer": "ipython3",
   "version": "3.5.2"
  }
 },
 "nbformat": 4,
 "nbformat_minor": 2
}
