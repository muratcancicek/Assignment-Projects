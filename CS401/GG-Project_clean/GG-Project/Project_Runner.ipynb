{
 "cells": [
  {
   "cell_type": "code",
   "execution_count": 2,
   "metadata": {
    "collapsed": false
   },
   "outputs": [
    {
     "name": "stdout",
     "output_type": "stream",
     "text": [
      "########################################################################################\n",
      "########################################################################################\n",
      "########################################################################################\n",
      "2017-08-24 02:11:31.650819: Running on MSI\n",
      "C:\\Users\\Muratcan\\Desktop\\logs.rtf will be reading by 2017-08-24 02:11:40.098124\n",
      "194 logs has been filtered from 194 logs in total by 2017-08-24 02:11:46.320219\n",
      "194 have been prepared by 2017-08-24 02:11:48.434648\n",
      "96\n",
      "{'page': 'cep-telefonu-ve-aksesuar/apple-iphone-7-32-gb-rose-gold-akilli-telefon-apple-turkiye-garantili-297673310'}\n",
      "{'page': 'cep-telefonu-ve-aksesuar/apple-iphone-7-plus-128-gb-akilli-cep-telefonu-298514440'}\n",
      "{'page': 'cep-telefonu-ve-aksesuar/apple-iphone-7-32-gb-akilli-cep-telefonu-299919753'}\n",
      "{'page': 'cep-telefonu-ve-aksesuar/apple-iphone-7-128-gb-kirmizi-renk-299594594'}\n",
      "{'page': 'cep-telefonu-ve-aksesuar/apple-iphone-7-128gb-akilli-cep-telefonu-298840198'}\n",
      "{'page': 'cep-telefonu-ve-aksesuar/apple-iphone-7-128gb-mn942tu-a-gold-apple-tr-garantilidir-295612179'}\n",
      "{'page': 'cep-telefonu-ve-aksesuar/apple-iphone-7-128gb-mn942tu-a-gold-apple-tr-garantilidir-295612179'}\n",
      "{'page': 'cep-telefonu-ve-aksesuar/iphone-7-128gb-red-mprl2tu-a-299472050'}\n",
      "{'page': 'cep-telefonu-ve-aksesuar/apple-iphone-7-plus-32gb-black-akilli-telefon-284555859'}\n",
      "{'page': 'cep-telefonu-ve-aksesuar/apple-iphone-7-128gb-gold-apple-turkiye-garantili-299752941'}\n",
      "0\n",
      "2017-08-24 02:11:56.174213: DONE\n",
      "########################################################################################\n",
      "########################################################################################\n",
      "########################################################################################\n"
     ]
    }
   ],
   "source": [
    "from RunnerOnJupyter import runOnJupyter\n",
    "runOnJupyter()"
   ]
  },
  {
   "cell_type": "code",
   "execution_count": 1,
   "metadata": {
    "collapsed": false,
    "scrolled": true
   },
   "outputs": [],
   "source": [
    "def t():\n",
    "    import paths, FinalizedRunners, ReadyTests\n",
    "    inputPaths = 'hdfs://osldevptst01.host.gittigidiyor.net:8020/user/root/logs.rtf'\n",
    "    keywords = ['iphone 7']\n",
    "    outputPath = paths.joinPath(paths.HDFSRootFolder, 'test34')\n",
    "    FinalizedRunners.pairLabellingFromObjectiveLogs(inputPaths, keywords, outputPath)   \n",
    "#runOnJupyter(t)"
   ]
  },
  {
   "cell_type": "code",
   "execution_count": 2,
   "metadata": {
    "collapsed": false,
    "scrolled": true
   },
   "outputs": [],
   "source": [
    "def t():\n",
    "    import FinalizedRunners\n",
    "    FinalizedRunners.trainForKeyword('iphone_7', folder = '/root/Projects/Assignment-Projects/CS401/GG-Project_clean/GG-Project', saving = False)\n",
    "#runOnJupyter(t)"
   ]
  }
 ],
 "metadata": {
  "anaconda-cloud": {},
  "kernelspec": {
   "display_name": "Python [default]",
   "language": "python",
   "name": "python3"
  },
  "language_info": {
   "codemirror_mode": {
    "name": "ipython",
    "version": 3
   },
   "file_extension": ".py",
   "mimetype": "text/x-python",
   "name": "python",
   "nbconvert_exporter": "python",
   "pygments_lexer": "ipython3",
   "version": "3.5.2"
  }
 },
 "nbformat": 4,
 "nbformat_minor": 2
}
