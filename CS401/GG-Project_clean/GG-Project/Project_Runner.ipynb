{
 "cells": [
  {
   "cell_type": "code",
   "execution_count": 1,
   "metadata": {
    "collapsed": false
   },
   "outputs": [
    {
     "name": "stdout",
     "output_type": "stream",
     "text": [
      "########################################################################################\n",
      "########################################################################################\n",
      "########################################################################################\n",
      "2017-08-24 01:58:09.332924: Running on MSI\n",
      "C:\\Users\\Muratcan\\Desktop\\logs.rtf will be reading by 2017-08-24 01:58:17.529714\n",
      "194 logs has been filtered from 194 logs in total by 2017-08-24 01:58:23.555342\n",
      "194 have been prepared by 2017-08-24 01:58:25.612873\n",
      "194\n",
      "80\n",
      "{'k': 'iphone 7', 'page': 'arama/'}\n",
      "{'k': 'iphone 7', 'page': 'arama/'}\n",
      "{'k': 'iphone 7', 'page': 'arama/'}\n",
      "{'k': 'iphone 7', 'page': 'arama/'}\n",
      "{'k': 'iphone 7', 'page': 'arama/'}\n",
      "{'k': 'iphone 7', 'page': 'arama/'}\n",
      "{'k': 'iphone 7', 'page': 'arama/'}\n",
      "{'k': 'iphone 7', 'page': 'arama/'}\n",
      "{'k': 'iphone 7', 'page': 'arama/'}\n",
      "{'k': 'iphone 7', 'page': 'arama/'}\n",
      "{'k': 'iphone 7', 'page': 'arama/'}\n",
      "{'k': 'iphone 7', 'page': 'arama/'}\n",
      "{'k': 'iphone 7', 'page': 'arama/'}\n",
      "{'k': 'iphone 7', 'page': 'arama/'}\n",
      "{'k': 'iphone 7', 'page': 'arama/'}\n",
      "{'k': 'iphone 7', 'page': 'arama/'}\n",
      "{'k': 'iphone 7', 'page': 'arama/'}\n",
      "{'k': 'iphone 7', 'page': 'arama/'}\n",
      "{'k': 'iphone 7', 'page': 'arama/'}\n",
      "{'k': 'iphone 7', 'page': 'arama/'}\n",
      "{'k': 'iphone 7', 'page': 'arama/'}\n",
      "{'k': 'iphone ', 'page': 'arama/'}\n",
      "{'k': 'iphone 7', 'page': 'arama/'}\n",
      "{'k': 'iphone 7', 'page': 'arama/'}\n",
      "{'k': 'iphone 7', 'page': 'arama/'}\n",
      "{'k': 'iphone 7', 'page': 'arama/'}\n",
      "{'k': 'iphone 7', 'page': 'arama/'}\n",
      "{'k': 'iphone 7', 'page': 'arama/'}\n",
      "{'k': 'iphone 7', 'page': 'arama/'}\n",
      "{'k': 'iphone 7', 'page': 'arama/'}\n",
      "{'k': 'iphone 7', 'page': 'arama/'}\n",
      "{'k': 'iphone 7', 'page': 'arama/'}\n",
      "{'k': 'iphone 7', 'page': 'arama/'}\n",
      "{'k': 'iphone 7', 'page': 'arama/'}\n",
      "{'k': 'iphone 7', 'page': 'arama/'}\n",
      "{'k': 'iphone 7', 'page': 'arama/'}\n",
      "{'k': 'iphone 7', 'page': 'arama/'}\n",
      "{'k': 'iphone 7', 'page': 'arama/'}\n",
      "{'k': 'iphone 7', 'page': 'arama/'}\n",
      "{'k': 'iphone 7', 'page': 'arama/'}\n",
      "{'k': 'iphone 7', 'page': 'arama/'}\n",
      "{'k': 'iphone 7', 'page': 'arama/'}\n",
      "{'k': 'iphone 7', 'page': 'arama/'}\n",
      "{'k': 'iphone 7', 'page': 'arama/'}\n",
      "{'k': 'iphone 7', 'page': 'arama/'}\n",
      "{'k': 'iphone 7', 'page': 'arama/'}\n",
      "{'k': 'iphone 7', 'page': 'arama/'}\n",
      "{'k': 'iphone 7', 'page': 'arama/'}\n",
      "{'k': 'iphone 7', 'page': 'arama/'}\n",
      "{'k': 'iphone 7', 'page': 'arama/'}\n",
      "{'k': 'iphone 7', 'page': 'arama/'}\n",
      "{'k': 'iphone 7', 'page': 'arama/'}\n",
      "{'k': 'iphone 7', 'page': 'arama/'}\n",
      "{'k': 'iphone 7', 'page': 'arama/'}\n",
      "{'k': 'iphone 7', 'page': 'arama/'}\n",
      "{'k': 'iphone 7', 'page': 'arama/'}\n",
      "{'k': 'iphone 7', 'page': 'arama/'}\n",
      "{'k': 'iphone 7', 'page': 'arama/'}\n",
      "{'k': 'iphone 7', 'page': 'arama/'}\n",
      "{'k': 'iphone 7', 'page': 'arama/'}\n",
      "{'k': 'iphone 7', 'page': 'arama/'}\n",
      "{'k': 'iphone 7', 'page': 'arama/'}\n",
      "{'k': 'iphone 7', 'page': 'arama/'}\n",
      "{'k': 'iphone 7', 'page': 'arama/'}\n",
      "{'k': 'iphone 7', 'page': 'arama/'}\n",
      "{'k': 'iphone 7', 'page': 'arama/'}\n",
      "{'k': 'iphone 7', 'page': 'arama/'}\n",
      "{'k': 'iphone 7', 'page': 'arama/'}\n",
      "{'k': 'iphone 7', 'page': 'arama/'}\n",
      "{'k': 'iphone 7', 'page': 'arama/'}\n",
      "{'k': 'iphone 7', 'page': 'arama/'}\n",
      "{'k': 'iphone 7', 'page': 'arama/'}\n",
      "{'k': 'iphone 7', 'page': 'arama/'}\n",
      "{'k': 'iphone 7', 'page': 'arama/'}\n",
      "{'k': 'iphone 7', 'page': 'arama/'}\n",
      "{'k': 'iphone 7', 'page': 'arama/'}\n",
      "{'k': 'iphone 7', 'page': 'arama/'}\n",
      "{'k': 'iphone 7', 'page': 'arama/'}\n",
      "{'k': 'iphone 7', 'page': 'arama/'}\n",
      "{'k': 'iphone 7', 'page': 'arama/'}\n",
      "2017-08-24 01:58:31.774634: DONE\n",
      "########################################################################################\n",
      "########################################################################################\n",
      "########################################################################################\n"
     ]
    }
   ],
   "source": [
    "from RunnerOnJupyter import runOnJupyter\n",
    "runOnJupyter()"
   ]
  },
  {
   "cell_type": "code",
   "execution_count": 1,
   "metadata": {
    "collapsed": false,
    "scrolled": true
   },
   "outputs": [],
   "source": [
    "def t():\n",
    "    import paths, FinalizedRunners, ReadyTests\n",
    "    inputPaths = 'hdfs://osldevptst01.host.gittigidiyor.net:8020/user/root/logs.rtf'\n",
    "    keywords = ['iphone 7']\n",
    "    outputPath = paths.joinPath(paths.HDFSRootFolder, 'test34')\n",
    "    FinalizedRunners.pairLabellingFromObjectiveLogs(inputPaths, keywords, outputPath)   \n",
    "#runOnJupyter(t)"
   ]
  },
  {
   "cell_type": "code",
   "execution_count": 2,
   "metadata": {
    "collapsed": false,
    "scrolled": true
   },
   "outputs": [],
   "source": [
    "def t():\n",
    "    import FinalizedRunners\n",
    "    FinalizedRunners.trainForKeyword('iphone_7', folder = '/root/Projects/Assignment-Projects/CS401/GG-Project_clean/GG-Project', saving = False)\n",
    "#runOnJupyter(t)"
   ]
  }
 ],
 "metadata": {
  "anaconda-cloud": {},
  "kernelspec": {
   "display_name": "Python [default]",
   "language": "python",
   "name": "python3"
  },
  "language_info": {
   "codemirror_mode": {
    "name": "ipython",
    "version": 3
   },
   "file_extension": ".py",
   "mimetype": "text/x-python",
   "name": "python",
   "nbconvert_exporter": "python",
   "pygments_lexer": "ipython3",
   "version": "3.5.2"
  }
 },
 "nbformat": 4,
 "nbformat_minor": 2
}
