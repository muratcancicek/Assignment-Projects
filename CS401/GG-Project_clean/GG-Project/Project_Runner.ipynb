{
 "cells": [
  {
   "cell_type": "code",
   "execution_count": 1,
   "metadata": {
    "collapsed": false
   },
   "outputs": [
    {
     "name": "stdout",
     "output_type": "stream",
     "text": [
      "########################################################################################\n",
      "########################################################################################\n",
      "########################################################################################\n",
      "2017-08-23 19:57:09.957807: Running on MSI\n",
      "C:\\Users\\Muratcan\\Desktop\\logs.rtf will be reading by 2017-08-23 19:57:18.494727\n",
      "194 logs has been filtered from 194 logs in total by 2017-08-23 19:57:24.887392\n",
      "194 have been prepared by 2017-08-23 19:57:26.935897\n",
      "18\n",
      "{'page': 'cep-telefonu-ve-aksesuar/apple-iphone-7-128gb-mn942tu-a-gold-apple-tr-garantilidir-295612179'}\n",
      "{'page': 'cep-telefonu-ve-aksesuar/apple-iphone-7-plus-32gb-black-akilli-telefon-284555859'}\n",
      "{'page': 'cep-telefonu-ve-aksesuar/apple-iphone-7-plus-128gb-jet-black-cep-telefonu-apple-turkiye-garantili-294957990'}\n",
      "{'page': 'cep-telefonu-ve-aksesuar/apple-iphone-7-plus-256gb-altin-284154743'}\n",
      "{'page': 'cep-telefonu-ve-aksesuar/apple-iphone-7-32-gb-silver-akilli-telefon-apple-turkiye-garantili-297674194'}\n",
      "{'page': 'cep-telefonu-ve-aksesuar/apple-iphone-7-256gb-cep-telefonu-jetblack-apple-tr-garantili-300163265'}\n",
      "{'page': 'cep-telefonu-ve-aksesuar/apple-iphone-7-256gb-cep-telefonu-jetblack-apple-tr-garantili-300163265'}\n",
      "{'page': 'cep-telefonu-ve-aksesuar/apple-iphone-7-plus-256gb-siyah-291705515'}\n",
      "{'page': 'cep-telefonu-ve-aksesuar/apple-iphone-7-32gb-gold-282057878'}\n",
      "{'page': 'cep-telefonu-ve-aksesuar/iphone-7-plus-256-gb-cep-telefonu-296469550'}\n",
      "{'page': 'cep-telefonu-ve-aksesuar/apple-iphone-7-plus-256gb-telefon-simsiyah-mn512tu-a-299753140'}\n",
      "{'page': 'cep-telefonu-ve-aksesuar/iphone-7-plus-mat-siyah-32-gb-temiz-300820461'}\n",
      "{'page': 'cep-telefonu-ve-aksesuar/apple-iphone-7-special-edition-128gb-282060939'}\n",
      "{'page': 'cep-telefonu-ve-aksesuar/apple-iphone-7-32gb-gold-akilli-telefon-284555842'}\n",
      "{'page': 'cep-telefonu-ve-aksesuar/apple-iphone-7-plus-32gb-black-akilli-telefon-284555859'}\n",
      "{'page': 'cep-telefonu-ve-aksesuar/iphone-7-128gb-jet-black-cep-telefonu-300185370'}\n",
      "{'page': 'cep-telefonu-ve-aksesuar/apple-iphone-7-special-edition-128gb-282060939'}\n",
      "{'page': 'cep-telefonu-ve-aksesuar/apple-iphone-7-special-edition-128gb-282060939'}\n",
      "2017-08-23 19:57:31.011317: DONE\n",
      "########################################################################################\n",
      "########################################################################################\n",
      "########################################################################################\n"
     ]
    }
   ],
   "source": [
    "from RunnerOnJupyter import runOnJupyter\n",
    "runOnJupyter()"
   ]
  },
  {
   "cell_type": "code",
   "execution_count": 1,
   "metadata": {
    "collapsed": false,
    "scrolled": true
   },
   "outputs": [],
   "source": [
    "def t():\n",
    "    import paths, FinalizedRunners, ReadyTests\n",
    "    inputPaths = 'hdfs://osldevptst01.host.gittigidiyor.net:8020/user/root/logs.rtf'\n",
    "    keywords = ['iphone 7']\n",
    "    outputPath = paths.joinPath(paths.HDFSRootFolder, 'test34')\n",
    "    FinalizedRunners.pairLabellingFromObjectiveLogs(inputPaths, keywords, outputPath)   \n",
    "#runOnJupyter(t)"
   ]
  },
  {
   "cell_type": "code",
   "execution_count": 2,
   "metadata": {
    "collapsed": false,
    "scrolled": true
   },
   "outputs": [],
   "source": [
    "def t():\n",
    "    import FinalizedRunners\n",
    "    FinalizedRunners.trainForKeyword('iphone_7', folder = '/root/Projects/Assignment-Projects/CS401/GG-Project_clean/GG-Project', saving = False)\n",
    "#runOnJupyter(t)"
   ]
  }
 ],
 "metadata": {
  "kernelspec": {
   "display_name": "Python [default]",
   "language": "python",
   "name": "python3"
  },
  "language_info": {
   "codemirror_mode": {
    "name": "ipython",
    "version": 3
   },
   "file_extension": ".py",
   "mimetype": "text/x-python",
   "name": "python",
   "nbconvert_exporter": "python",
   "pygments_lexer": "ipython3",
   "version": "3.5.2"
  }
 },
 "nbformat": 4,
 "nbformat_minor": 2
}
