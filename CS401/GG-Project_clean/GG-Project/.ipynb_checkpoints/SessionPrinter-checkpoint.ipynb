{
 "cells": [
  {
   "cell_type": "code",
   "execution_count": 1,
   "metadata": {
    "collapsed": false
   },
   "outputs": [],
   "source": [
    "from SparkerMethods import runSpark\n",
    "runSpark()"
   ]
  },
  {
   "cell_type": "code",
   "execution_count": 2,
   "metadata": {
    "collapsed": false
   },
   "outputs": [],
   "source": [
    "from NewExtractorRunner import *\n",
    "from ReadyTests import get32Keywords\n",
    "import paths\n",
    "import PythonVersionHandler\n",
    "PythonVersionHandler.LOGGING = False"
   ]
  },
  {
   "cell_type": "code",
   "execution_count": 3,
   "metadata": {
    "collapsed": false
   },
   "outputs": [],
   "source": [
    "keywords = get32Keywords() # 'iphone 7' # \"BEKO 9 KG CAMASIR MAKINESI\" # 'tupperware'\n",
    "day = 17\n",
    "dateStr = '2017-05-' + str(day)\n",
    "extractedPath = 'hdfs://osldevptst01.host.gittigidiyor.net:8020/user/root/secondWeek/besiktas/besiktas_extractedLogs'"
   ]
  },
  {
   "cell_type": "code",
   "execution_count": 4,
   "metadata": {
    "collapsed": false
   },
   "outputs": [
    {
     "name": "stdout",
     "output_type": "stream",
     "text": [
      "hdfs://osldevptst01.host.gittigidiyor.net:8020/user/root/secondWeek/besiktas/besiktas_extractedLogs has been read by 2017-08-21 13:05:55.565783\n"
     ]
    }
   ],
   "source": [
    "import SparkLogFileHandler\n",
    "logs = SparkLogFileHandler.readParsedLogsFromHDFS(extractedPath)"
   ]
  },
  {
   "cell_type": "code",
   "execution_count": null,
   "metadata": {
    "collapsed": false
   },
   "outputs": [],
   "source": [
    "import SearchExtractor\n",
    "keywordDict = SearchExtractor.searchNProductLogsByKeywords(logs, keywords, True)  "
   ]
  },
  {
   "cell_type": "code",
   "execution_count": null,
   "metadata": {
    "collapsed": false
   },
   "outputs": [],
   "source": [
    "import Sessionizer\n",
    "sessions = Sessionizer.sessionize(keywordDict['besiktas'])"
   ]
  },
  {
   "cell_type": "code",
   "execution_count": 9,
   "metadata": {
    "collapsed": false,
    "scrolled": true
   },
   "outputs": [
    {
     "name": "stdout",
     "output_type": "stream",
     "text": [
      "\u001b[92mSession begins...\u001b[0m\n",
      "2017-05-17 16:57:53.301000: Searching, Showing 60 products with order wbm on page 1 for besiktas for cookie 15.\n",
      "2017-05-17 16:57:57.693000: Page narrowed, Showing 60 products with order wbm on page 1 for besiktas for cookie 15.\n",
      "2017-05-17 16:58:05.393000: Order changed, Showing 60 products with order hpa on page 1 for besiktas for cookie 15.\n",
      "\u001b[95m2017-05-17 16:59:13.391000: 49. Product with id 280758096 clicked. (Besiktas Fermuarli Emniyet Kemer Kilifi for cookie 15.\u001b[0m\n",
      "2017-05-17 16:59:42.326000: Searching, Showing 60 products with order hpa on page 2 for besiktas for cookie 15.\n",
      "\u001b[95m2017-05-17 17:00:10.751000: 16. Product with id 267180209 clicked. (BESIKTAS ASMALI IP SUS for cookie 15.\u001b[0m\n",
      "\u001b[95m2017-05-17 17:01:05.981000: 48. Product with id 264206422 clicked. (Oto Kokusu Bjk 2%2CLi Asma Koku. for cookie 15.\u001b[0m\n",
      "2017-05-17 17:01:55.212000: Searching, Showing 60 products with order hpa on page 3 for besiktas for cookie 15.\n",
      "\u001b[95m2017-05-17 17:02:59.343000: 49. Product with id 280758096 clicked from the recent 3. search. (Besiktas Fermuarli Emniyet Kemer Kilifi for cookie 15.\u001b[0m\n",
      "2017-05-17 17:11:58.373000: Searching, Showing 60 products with order hpa on page 4 for besiktas for cookie 15.\n",
      "2017-05-17 17:13:20.843000: Next Page, Showing 60 products with order hpa on page 5 for besiktas for cookie 15.\n",
      "2017-05-17 17:13:51.550000: Next Page, Showing 60 products with order hpa on page 6 for besiktas for cookie 15.\n",
      "\u001b[94m2017-05-17 17:19:26.339000: 49. Product with id 280758096 paid from the recent 6. search for cookie 15.\u001b[0m\n",
      "2017-05-17 17:19:51.125000: Searching, Showing 60 products with order hpa on page 7 for besiktas for cookie 16.\n",
      "2017-05-17 17:21:34.595000: Next Page, Showing 60 products with order hpa on page 8 for besiktas for cookie 15.\n",
      "\u001b[92mSession end.\u001b[0m\n"
     ]
    }
   ],
   "source": [
    "printSessionActions(sessions[5])"
   ]
  }
 ],
 "metadata": {
  "kernelspec": {
   "display_name": "Python 3",
   "language": "python",
   "name": "python3"
  },
  "language_info": {
   "codemirror_mode": {
    "name": "ipython",
    "version": 3
   },
   "file_extension": ".py",
   "mimetype": "text/x-python",
   "name": "python",
   "nbconvert_exporter": "python",
   "pygments_lexer": "ipython3",
   "version": "3.4.5"
  }
 },
 "nbformat": 4,
 "nbformat_minor": 2
}
