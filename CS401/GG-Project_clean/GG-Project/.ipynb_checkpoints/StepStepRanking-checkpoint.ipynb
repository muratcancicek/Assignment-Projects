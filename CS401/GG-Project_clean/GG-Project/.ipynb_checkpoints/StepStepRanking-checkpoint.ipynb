{
 "cells": [
  {
   "cell_type": "code",
   "execution_count": 1,
   "metadata": {
    "collapsed": true
   },
   "outputs": [],
   "source": [
    "from SparkerMethods import runSpark\n",
    "runSpark()"
   ]
  },
  {
   "cell_type": "code",
   "execution_count": null,
   "metadata": {
    "collapsed": true
   },
   "outputs": [],
   "source": [
    "import PythonVersionHandler\n",
    "PythonVersionHandler.LOGGING = False"
   ]
  },
  {
   "cell_type": "code",
   "execution_count": 20,
   "metadata": {
    "collapsed": false
   },
   "outputs": [],
   "source": [
    "from StepStepRanking import *\n",
    "path = 'hdfs://osldevptst01.host.gittigidiyor.net:8020/user/root/secondWeek/iphone_7/iphone_7_products'\n",
    "i1 = 281852810 \n",
    "i2 = 255300935"
   ]
  },
  {
   "cell_type": "code",
   "execution_count": null,
   "metadata": {
    "collapsed": false
   },
   "outputs": [],
   "source": [
    "p1 = findProductById(i1, path)\n",
    "print(p1)\n",
    "p2 = findProductById(i2, path)\n",
    "print(p2)"
   ]
  },
  {
   "cell_type": "code",
   "execution_count": 16,
   "metadata": {
    "collapsed": false
   },
   "outputs": [
    {
     "name": "stdout",
     "output_type": "stream",
     "text": [
      "hdfs://osldevptst01.host.gittigidiyor.net:8020/user/root/secondWeek/iphone_7/iphone_7_pairs with 24618 labeledPairs will be reading by 2017-08-21 15:54:04.884827\n",
      "73 Instances have been found for this pair.\n",
      "2 Positive instances have been found for this pair.\n",
      "71 Negative instances have been found for this pair.\n"
     ]
    }
   ],
   "source": [
    "pairsPath = 'hdfs://osldevptst01.host.gittigidiyor.net:8020/user/root/secondWeek/iphone_7/iphone_7_pairs'\n",
    "findPairById(i1, i2, pairsPath)"
   ]
  },
  {
   "cell_type": "code",
   "execution_count": 10,
   "metadata": {
    "collapsed": true
   },
   "outputs": [],
   "source": [
    "import pyspark.mllib.linalg \n",
    "weights = pyspark.mllib.linalg.DenseVector(\n",
    "    [-0.156010916474, 0.00231908727272, -0.914841419769, -0.352554315839, -0.0100321630056, 0.102397831393, \n",
    "     0.455334313274, 0.838029110915, 0.0, 0.0187489550433, 0.0, -0.155462998401, 0.383512022463, 0.0])"
   ]
  },
  {
   "cell_type": "code",
   "execution_count": 11,
   "metadata": {
    "collapsed": false
   },
   "outputs": [
    {
     "name": "stdout",
     "output_type": "stream",
     "text": [
      "-5382.79223656\n",
      "-9736.31315147\n"
     ]
    }
   ],
   "source": [
    "s1 = weights.dot(p1[1])\n",
    "s2 = weights.dot(p2[1])\n",
    "print(s1)\n",
    "print(s2)"
   ]
  },
  {
   "cell_type": "code",
   "execution_count": 12,
   "metadata": {
    "collapsed": false
   },
   "outputs": [
    {
     "name": "stdout",
     "output_type": "stream",
     "text": [
      "4353.5209149\n"
     ]
    }
   ],
   "source": [
    "label = weights.dot(p1[1] - p2[1])\n",
    "print(label)"
   ]
  },
  {
   "cell_type": "code",
   "execution_count": 13,
   "metadata": {
    "collapsed": false
   },
   "outputs": [
    {
     "name": "stdout",
     "output_type": "stream",
     "text": [
      "-4353.5209149\n"
     ]
    }
   ],
   "source": [
    "label = weights.dot(p2[1] - p1[1])\n",
    "print(label)"
   ]
  },
  {
   "cell_type": "code",
   "execution_count": null,
   "metadata": {
    "collapsed": true
   },
   "outputs": [],
   "source": [
    "Whatsapp"
   ]
  }
 ],
 "metadata": {
  "kernelspec": {
   "display_name": "Python 3",
   "language": "python",
   "name": "python3"
  },
  "language_info": {
   "codemirror_mode": {
    "name": "ipython",
    "version": 3
   },
   "file_extension": ".py",
   "mimetype": "text/x-python",
   "name": "python",
   "nbconvert_exporter": "python",
   "pygments_lexer": "ipython3",
   "version": "3.4.5"
  }
 },
 "nbformat": 4,
 "nbformat_minor": 2
}
