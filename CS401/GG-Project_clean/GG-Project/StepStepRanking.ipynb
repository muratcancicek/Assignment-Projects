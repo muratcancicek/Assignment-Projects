{
 "cells": [
  {
   "cell_type": "code",
   "execution_count": 2,
   "metadata": {
    "collapsed": true
   },
   "outputs": [],
   "source": [
    "from SparkerMethods import runSpark\n",
    "runSpark()"
   ]
  },
  {
   "cell_type": "code",
   "execution_count": 3,
   "metadata": {
    "collapsed": true
   },
   "outputs": [],
   "source": [
    "import PythonVersionHandler\n",
    "PythonVersionHandler.LOGGING = False"
   ]
  },
  {
   "cell_type": "code",
   "execution_count": 10,
   "metadata": {
    "collapsed": false
   },
   "outputs": [],
   "source": [
    "from StepStepRanking import *\n",
    "path = 'hdfs://osldevptst01.host.gittigidiyor.net:8020/user/root/secondWeek/iphone_7/iphone_7_products'\n",
    "path = 'iphone_7_products.txt'\n",
    "i1 = 281852810 \n",
    "i2 = 255300935"
   ]
  },
  {
   "cell_type": "code",
   "execution_count": 11,
   "metadata": {
    "collapsed": false
   },
   "outputs": [],
   "source": [
    "p1 = findProductById(i1, path)\n",
    "p2 = findProductById(i2, path)"
   ]
  },
  {
   "cell_type": "code",
   "execution_count": 9,
   "metadata": {
    "collapsed": false
   },
   "outputs": [
    {
     "name": "stdout",
     "output_type": "stream",
     "text": [
      "(281852810, DenseVector([0.0, -0.7071, -0.7071, 0.7071, 0.7071, 0.0, 0.0, -0.7071, -0.7071, 0.0, 0.0, 0.0, 0.0, -0.7071]))\n",
      "(255300935, DenseVector([0.0, 0.7071, 0.7071, -0.7071, -0.7071, 0.0, 0.0, 0.7071, 0.7071, 0.0, 0.0, 0.0, 0.0, 0.7071]))\n"
     ]
    }
   ],
   "source": [
    "def scaleTrainData(features):\n",
    "    import PythonVersionHandler, pyspark.mllib.feature\n",
    "    scaler = pyspark.mllib.feature.StandardScaler(withMean=True, withStd=True).fit(features)\n",
    "    return scaler.transform(features)\n",
    "import SparkLogFileHandler\n",
    "features = SparkLogFileHandler.sc_().parallelize([p1[1], p2[1]])\n",
    "features = scaleTrainData(features).collect()\n",
    "p1 = (p1[0], features[0]); p2 = (p2[0], features[1])\n",
    "print(p1)\n",
    "print(p2)"
   ]
  },
  {
   "cell_type": "code",
   "execution_count": 6,
   "metadata": {
    "collapsed": false
   },
   "outputs": [
    {
     "name": "stdout",
     "output_type": "stream",
     "text": [
      "130 Instances have been found for this pair.\n",
      "3 Positive instances have been found for this pair.\n",
      "127 Negative instances have been found for this pair.\n"
     ]
    }
   ],
   "source": [
    "pairsPath = 'hdfs://osldevptst01.host.gittigidiyor.net:8020/user/root/secondWeek/iphone_7/iphone_7_pairs'\n",
    "findPairById(i1, i2, pairsPath)"
   ]
  },
  {
   "cell_type": "code",
   "execution_count": 7,
   "metadata": {
    "collapsed": true
   },
   "outputs": [],
   "source": [
    "import pyspark.mllib.linalg \n",
    "weights = pyspark.mllib.linalg.DenseVector(\n",
    "    [-0.156010916474, 0.00231908727272, -0.914841419769, -0.352554315839, -0.0100321630056, 0.102397831393, \n",
    "     0.455334313274, 0.838029110915, 0.0, 0.0187489550433, 0.0, -0.155462998401, 0.383512022463, 0.0])"
   ]
  },
  {
   "cell_type": "code",
   "execution_count": 10,
   "metadata": {
    "collapsed": false
   },
   "outputs": [
    {
     "name": "stdout",
     "output_type": "stream",
     "text": [
      "-0.203712695825\n",
      "0.203712695825\n"
     ]
    }
   ],
   "source": [
    "s1 = weights.dot(p1[1])\n",
    "s2 = weights.dot(p2[1])\n",
    "print(s1)\n",
    "print(s2)"
   ]
  },
  {
   "cell_type": "code",
   "execution_count": 11,
   "metadata": {
    "collapsed": false
   },
   "outputs": [
    {
     "name": "stdout",
     "output_type": "stream",
     "text": [
      "-0.40742539165\n"
     ]
    }
   ],
   "source": [
    "label = weights.dot(p1[1] - p2[1])\n",
    "print(label)"
   ]
  },
  {
   "cell_type": "code",
   "execution_count": 13,
   "metadata": {
    "collapsed": false
   },
   "outputs": [
    {
     "name": "stdout",
     "output_type": "stream",
     "text": [
      "-4353.5209149\n"
     ]
    }
   ],
   "source": [
    "label = weights.dot(p2[1] - p1[1])\n",
    "print(label)"
   ]
  },
  {
   "cell_type": "code",
   "execution_count": null,
   "metadata": {
    "collapsed": true
   },
   "outputs": [],
   "source": [
    "Whatsapp"
   ]
  }
 ],
 "metadata": {
  "anaconda-cloud": {},
  "kernelspec": {
   "display_name": "Python [default]",
   "language": "python",
   "name": "python3"
  },
  "language_info": {
   "codemirror_mode": {
    "name": "ipython",
    "version": 3
   },
   "file_extension": ".py",
   "mimetype": "text/x-python",
   "name": "python",
   "nbconvert_exporter": "python",
   "pygments_lexer": "ipython3",
   "version": "3.5.2"
  }
 },
 "nbformat": 4,
 "nbformat_minor": 2
}
